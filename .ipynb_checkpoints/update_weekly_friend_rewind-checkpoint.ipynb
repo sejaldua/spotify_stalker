{
 "cells": [
  {
   "cell_type": "code",
   "execution_count": 62,
   "metadata": {
    "ExecuteTime": {
     "end_time": "2019-11-09T22:38:48.638177Z",
     "start_time": "2019-11-09T22:37:45.456916Z"
    }
   },
   "outputs": [
    {
     "name": "stdout",
     "output_type": "stream",
     "text": [
      "1239332215 Adam & Eve 2jKc6HtnRQTATF979Iez2N\n",
      "1286243382 Orange Trees 368UaeqCCqT237KgIN8H5I\n",
      "1286243382 Time 05v5mPkLAOoa7M5tnXXOwq\n",
      "1286243382 blushing! 7D6Jzo3YzS5kPwU1LlZDog\n",
      "1286243382 Ribs 2MvvoeRt8NcOXWESkxWn3g\n",
      "1286243382 November Has Come 6lrDckuosGpwEHtm1hHBcf\n",
      "1286243382 Lose You To Love Me 1HfMVBKM75vxSfsQ5VefZ5\n",
      "1286243382 Memories 2b8fOow8UzyDFAE27YhOZM\n",
      "1286243382 Don't Start Now 6WrI0LAC5M1Rw2MnX2ZvEg\n",
      "1286243382 Now I'm In It 5K7x78NAL50rhfhm73ePNb\n",
      "1299117366 Settle 5eVeezFaMVuqb1dCd2bAxV\n",
      "1299117366 Taking Me Back 6A9mMKHYdeUJGvQDKChC0C\n",
      "1299117366 Malibu 1992 0nMqu5vN44GNv8UOQxmBJK\n",
      "1299117366 31 / 10 4TwbiHzsLKYydj4CxrufQB\n",
      "1299265962 Human 1sTsuZTdANkiFd7T34H3nb\n",
      "1299265962 Runner 0NhAIbmMvLkdt4KPziEnW1\n",
      "1999musica Ipanema 0phxK01nh2jkPnYe9wLfdO\n",
      "1999musica Your Hand Holding Mine 0jWHVt7QkVRWCj2Sw2Ncl3\n",
      "1999musica Hunnybee 3DPFmwFtV5ElQaTniLOdgk\n",
      "1999musica Can't Get Used to Losing You - Single Version 41zpWL98BsYKP5nvtdTM5z\n",
      "1999musica No Going Back 4AKN68fSI8weZ1dbN35QLi\n",
      "1999musica Skating 7hK9jnESeCfc5fIHH76jKh\n",
      "1999musica Love On The Brain 5oO3drDxtziYU2H1X23ZIp\n",
      "1999musica Somos Dos 35u3Isd3DuXKAEC7JCC0lB\n",
      "amberchongswim HeadBand (feat. 2 Chainz) - Coucheron Remix 7wfUFY3X5YTjZQYzqEyHYy\n",
      "amberchongswim Saw You In A Dream 0U3u0HdRQjD8mAMYBak4Ok\n",
      "amberchongswim See You Later 4OHXUCTieg7Ba4My21pFz8\n",
      "anjali.panikar Promiscuous 47aQT2aV12TyilaoYi1NiD\n",
      "bhargav.bbdoubleb.annigeri Session 5KNJ2qBD92lNfdcdcHmzEY\n",
      "bhargav.bbdoubleb.annigeri The Little Things Give You Away 48QYP8a8gEqbtvjOTMSpiD\n",
      "bhargav.bbdoubleb.annigeri In Between 2ysXuQd8uOfSMZcMRR5Ux4\n",
      "bhargav.bbdoubleb.annigeri Robot Boy 2LjaNzmzPfljimPxRgFVye\n",
      "bhargav.bbdoubleb.annigeri Jornada Del Muerto 1LrFwH09EM9VYAUx3DfwBj\n",
      "bhargav.bbdoubleb.annigeri Green, Green Rocky Road 1r8BiPbyYhKaWEXOjMEip4\n",
      "bhargav.bbdoubleb.annigeri Fare Thee Well (Dink's Song) 0YOOXnCJihgyluizqhAcrz\n",
      "bhargav.bbdoubleb.annigeri Lying from You 3BmjRmFTESgWZLPSVGp8aG\n",
      "dwhbnduezh2map3vk9vxwa9m8 Piece of My Heart 1xKQbqQtQWrtQS47fUJBtl\n",
      "dwhbnduezh2map3vk9vxwa9m8 Message 3xMoY5aOWL8HYvNBGdBtpL\n",
      "emmakanna How Does It Feel? 7nnz5nWr6iHtiEhH3a22HH\n",
      "emmakanna Trixie 3J3LxwxJfgjjAZ5jsKK3Kq\n",
      "emmakanna Toronto 2w2XmZLVvSSb30Dkkfeq2X\n",
      "emmakanna February 3rd 3c5gLGgwRrE7sQYSNHCXEj\n",
      "emmakanna True Affection 0AcZL4zY29jBlVp2lVA23O\n",
      "emmakanna Grateful 7mvma3mO5hSyhVbJDXxtFz\n",
      "emmakanna Unbearably White 2FjoCQaBoiEKs3FCvD0HkR\n",
      "emmakanna Slipping 5qVgjRn125fERbF5bY7Zvb\n",
      "kchen211 Watch Tv 3onj6HfI3TCJyrsWMvdMeZ\n",
      "kchen211 Hope 2cifwLDEoZhajgqx06oMNe\n",
      "kchen211 Goodbye Stranger - 2010 Remastered 67oyFnjJnn78fZP9KjeZx0\n",
      "kchen211 I Will - Remastered 2009 09x9v1o51dbqi5H0u7UGfp\n",
      "kchen211 When It Lands 16ro1is6DmDKkarlJMBbzV\n",
      "kchen211 Sweep Me Off My Feet 6VDfadV7NzHpwVEIDFhN64\n",
      "kchen211 Bola Rebola 1OUPXna2MCgAt3VNmXJBtg\n",
      "kchen211 It Might Be Time 2P0NiuAfypaw5UZJoo0n0o\n",
      "kchen211 Watch Tv 3onj6HfI3TCJyrsWMvdMeZ\n",
      "kchen211 Laffy Taffy 6JPfeRnl5XJa9jIv4kbjr9\n",
      "kchen211 Give Up The Ghost (Thriller Houseghost Remix) 1gaAIZ4vGQ6QvDUgN2Xyus\n",
      "lucy10moons Date Night 0yhtHv2XQw0sTlClTOdABp\n",
      "lucy10moons Like A Movie 3mCLQo9w32ApCN1xaYQhRB\n",
      "lucy10moons Floors 5YHMaDiaGGYs5QyJ2CBDXJ\n",
      "lucy10moons THAT BITCH 77o1HdXHm1hLd7Ebe9ygd0\n",
      "lucy10moons Doomed 6zcARpNpbhakJqS7pcXPfM\n",
      "lucy10moons Lonely Shade of Blue 3Xy4XTx8YUspuzOAP1VteX\n",
      "lucy10moons Les vitrines 3GyOPU16lqk4zQgzX3jBF8\n",
      "lucy10moons Fragment 3VBPPIu4MGBnMj4SF8sJBJ\n"
     ]
    },
    {
     "data": {
      "text/plain": [
       "{'snapshot_id': 'OCw4OGU4NDZhNjM2Yjk1YjU1YWM4YzA5OTYzZDY5YmViZmNkZDZjMGU5'}"
      ]
     },
     "execution_count": 62,
     "metadata": {},
     "output_type": "execute_result"
    }
   ],
   "source": [
    "import spotipy\n",
    "import numpy\n",
    "import json\n",
    "from spotipy.oauth2 import SpotifyClientCredentials\n",
    "import datetime\n",
    "\n",
    "now = datetime.date.today()\n",
    "\n",
    "# get a new one of these babies anytime you want to run the script\n",
    "sp = spotipy.Spotify(auth='BQA3O829FaYNmaBHOGNeQ2XExzBCIenFZ6tb5fbQjCbX7fsaNT0UjkSIm1l-FBGGLwXwGHWYfyehJPChwlnGyiVzwX4xdjU2hWoBejzmSEcBH6Ggb6FuGBspeiCtm1ylPQdVmDA6iTP-WOKYW90AJeH5HFvSomhAH9BL2VAB-4zXDlbBifIUykeyYHbSKiNYoVZkVg0g4LkAyLLsGZfSD1uuc7PwRFm1mtpsKe-VDSTKFRdDyQvkP_6Y8Kbg4Q')\n",
    "\n",
    "# developer API stuff\n",
    "username='sejaldua'\n",
    "client_id = '596a6d95b0904fdfa3988f5c7752dd55'\n",
    "client_secret = '621417cf44204e1da4c97698493a2230'\n",
    "client_credentials_manager = SpotifyClientCredentials(client_id=client_id, client_secret=client_secret)\n",
    "\n",
    "# this is manual for me, basically put the URI of any user whose music you vibe with\n",
    "following = ['spotify:user:1224140565', 'spotify:user:1226904208', 'spotify:user:123511352', 'spotify:user:1239332215', 'spotify:user:1286243382',\n",
    "             'spotify:user:1286483936', 'spotify:user:1295880461', 'spotify:user:1299117366', 'spotify:user:1299265962', 'spotify:user:1999musica',\n",
    "             'spotify:user:amberchongswim', 'spotify:user:anjali.panikar', 'spotify:user:bhargav.bbdoubleb.annigeri', 'spotify:user:dwhbnduezh2map3vk9vxwa9m8',\n",
    "             'spotify:user:emmakanna', 'spotify:user:emmaresor', 'spotify:user:iouq12z4wsb5odeuvk295axoa', 'spotify:user:kchen211', 'spotify:user:kikiogino',\n",
    "             'spotify:user:lucy10moons', 'spotify:user:mckinzeytorrance', 'spotify:user:romyaa']\n",
    "\n",
    "following = [f.split(':')[2] for f in following]\n",
    "tracks_to_add = []\n",
    "for f in following:\n",
    "    num_added = 0\n",
    "    user_playlists = sp.user_playlists(f, limit=25)\n",
    "    for playlist in user_playlists['items']:\n",
    "        uri = playlist['uri']\n",
    "        curr_playlist = sp.user_playlist_tracks(f, playlist_id=uri)\n",
    "        for track in curr_playlist['items']:\n",
    "            date_added = track['added_at']\n",
    "            entries = date_added.split('-')\n",
    "            date_added = datetime.date(int(entries[0]), int(entries[1]), int(entries[2][0:2]))\n",
    "            diff = now - date_added\n",
    "            if diff < datetime.timedelta(7):\n",
    "                print(f, track['track']['name'], track['track']['id'])\n",
    "                if len(tracks_to_add) < 100 and num_added < 7:\n",
    "                    tracks_to_add.append(track['track']['id'])\n",
    "                    num_added += 1\n",
    "                else:\n",
    "                    break\n",
    "             \n",
    "# this is also specific to the playList I want to update  \n",
    "sp.user_playlist_replace_tracks('srrzaa61gi4hzx02avrosh1n9', '4mId4GTzmDVjFDvRlRJxQd', tracks_to_add)\n",
    "           "
   ]
  },
  {
   "cell_type": "code",
   "execution_count": null,
   "metadata": {
    "ExecuteTime": {
     "end_time": "2019-11-09T22:03:00.950664Z",
     "start_time": "2019-11-09T22:03:00.937479Z"
    }
   },
   "outputs": [],
   "source": []
  },
  {
   "cell_type": "code",
   "execution_count": null,
   "metadata": {},
   "outputs": [],
   "source": []
  }
 ],
 "metadata": {
  "kernelspec": {
   "display_name": "Python 3",
   "language": "python",
   "name": "python3"
  },
  "language_info": {
   "codemirror_mode": {
    "name": "ipython",
    "version": 3
   },
   "file_extension": ".py",
   "mimetype": "text/x-python",
   "name": "python",
   "nbconvert_exporter": "python",
   "pygments_lexer": "ipython3",
   "version": "3.6.6"
  },
  "toc": {
   "base_numbering": 1,
   "nav_menu": {},
   "number_sections": true,
   "sideBar": true,
   "skip_h1_title": false,
   "title_cell": "Table of Contents",
   "title_sidebar": "Contents",
   "toc_cell": false,
   "toc_position": {},
   "toc_section_display": true,
   "toc_window_display": false
  },
  "varInspector": {
   "cols": {
    "lenName": 16,
    "lenType": 16,
    "lenVar": 40
   },
   "kernels_config": {
    "python": {
     "delete_cmd_postfix": "",
     "delete_cmd_prefix": "del ",
     "library": "var_list.py",
     "varRefreshCmd": "print(var_dic_list())"
    },
    "r": {
     "delete_cmd_postfix": ") ",
     "delete_cmd_prefix": "rm(",
     "library": "var_list.r",
     "varRefreshCmd": "cat(var_dic_list()) "
    }
   },
   "types_to_exclude": [
    "module",
    "function",
    "builtin_function_or_method",
    "instance",
    "_Feature"
   ],
   "window_display": false
  }
 },
 "nbformat": 4,
 "nbformat_minor": 2
}
